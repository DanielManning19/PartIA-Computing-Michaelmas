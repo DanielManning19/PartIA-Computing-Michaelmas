{
 "cells": [
  {
   "cell_type": "markdown",
   "metadata": {
    "nbgrader": {
     "grade": false,
     "grade_id": "cell-7b3313f25bceb7a2",
     "locked": true,
     "schema_version": 3,
     "solution": false
    }
   },
   "source": [
    "## Exercise 06.1 (selecting and passing data structures)\n",
    "\n",
    "The task in Exercise 04 for computing the area of a triangle involved a function with six arguments ($x$ and $y$ components of each vertex). With six arguments, the likelihood of a user passing arguments in the wrong order is high. \n",
    "\n",
    "Use an appropriate data structure, e.g. a `list`, `tuple`, `dict`, etc, to develop a new version of the function with an improved interface (the interface is the arguments that are passed to the function) with fewer arguments. Add appropriate checks inside your function on the input data."
   ]
  },
  {
   "cell_type": "code",
   "execution_count": 1,
   "metadata": {
    "nbgrader": {
     "grade": false,
     "grade_id": "cell-50c4566d7bcbffaf",
     "locked": false,
     "schema_version": 3,
     "solution": true
    },
    "tags": []
   },
   "outputs": [
    {
     "name": "stdout",
     "output_type": "stream",
     "text": [
      "5.0\n"
     ]
    }
   ],
   "source": [
    "def area(A, B, C): # A, B, C are the vertices of the triangle in the form (x, y)\n",
    "    # assert that A, B and C are tuples\n",
    "    try:\n",
    "        assert type(A) == tuple\n",
    "        assert type(B) == tuple\n",
    "        assert type(C) == tuple\n",
    "        assert len(A) == 2\n",
    "        assert len(B) == 2\n",
    "        assert len(C) == 2\n",
    "    except AssertionError:\n",
    "        raise ValueError('A, B and C must be tuples of length 2!')\n",
    "\n",
    "    # assert that the coordinates are floating point numbers\n",
    "    try:\n",
    "        assert type(A[0]) == float\n",
    "        assert type(A[1]) == float\n",
    "        assert type(B[0]) == float\n",
    "        assert type(B[1]) == float\n",
    "        assert type(C[0]) == float\n",
    "        assert type(C[1]) == float\n",
    "    except AssertionError:\n",
    "        raise ValueError('The coordinates must be floating point numbers!')\n",
    "\n",
    "    numerator = (A[0] * (B[1] - C[1])) + (B[0] * (C[1] - A[1])) + (C[0] * (A[1] - B[1]))\n",
    "    return abs(numerator / 2)\n",
    "\n",
    "print(area((0.0, -2.0), (0.0, 2.0), (2.5, 0.0)))"
   ]
  },
  {
   "cell_type": "markdown",
   "metadata": {
    "nbgrader": {
     "grade": false,
     "grade_id": "cell-5065052af9989fdf",
     "locked": true,
     "schema_version": 3,
     "solution": false
    }
   },
   "source": [
    "## Exercise 06.2 (selecting data structures)\n",
    "\n",
    "For a simple (non-intersecting) polygon with $n$ vertices, $(x_0, y_0)$, $(x_1, y_1)$, . . , $(x_{n-1}, y_{n-1})$, the area $A$ is given by\n",
    "$$\n",
    "A = \\left| \\frac{1}{2} \\sum_{i=0}^{n-1} \\left(x_{i} y _{i+1} - x_{i+1} y_{i} \\right) \\right|\n",
    "$$\n",
    "and where $(x_n, y_n) = (x_0, y_0)$. The vertices should be ordered as you move around the polygon.\n",
    "\n",
    "Write a function that, given only the vertex coordinates, computes the area of a simple polygon. Test your function for some simple shapes. Pay careful attention to the range of any loops. **Test for polygons without a vertex at the origin.**"
   ]
  },
  {
   "cell_type": "code",
   "execution_count": 2,
   "metadata": {
    "nbgrader": {
     "grade": false,
     "grade_id": "cell-4b5a619405787746",
     "locked": false,
     "schema_version": 3,
     "solution": true
    },
    "tags": []
   },
   "outputs": [],
   "source": [
    "import math\n",
    "\n",
    "def calculate_polygon_area(vertices):\n",
    "    n = len(vertices)\n",
    "    extended_vertices = (*vertices, vertices[0]) # append the first vertex to the end of the tuple\n",
    "    \n",
    "    current_sum = 0.0 # current value of the sum as we loop through the tuple\n",
    "\n",
    "    for i in range(n):\n",
    "        current_sum += (extended_vertices[i][0] * extended_vertices[i + 1][1]) - (extended_vertices[i + 1][0] * extended_vertices[i][1])\n",
    "    \n",
    "    return abs(current_sum / 2)\n",
    "\n",
    "# test with a quadrilateral\n",
    "quadrilateral_vertices = ((2.5, 0.0), (1.0, 1.0), (-1.0, -1.0), (0.0, -2.0))\n",
    "quadrilateral_area = calculate_polygon_area(quadrilateral_vertices)\n",
    "\n",
    "assert math.isclose(quadrilateral_area, 4.75) # check against expected value"
   ]
  },
  {
   "cell_type": "markdown",
   "metadata": {
    "nbgrader": {
     "grade": false,
     "grade_id": "cell-ced99a38c7bbe7a0",
     "locked": true,
     "schema_version": 3,
     "solution": false
    }
   },
   "source": [
    "## Exercise 06.3 (indexing)\n",
    "\n",
    "Write a function that uses list indexing to add two vectors of arbitrary length, and returns the new vector. Include a check that the vector sizes match. Print a warning message if there is a size mismatch. The more error information you provide, the easier it would be for someone using your function to debug their code.\n",
    "\n",
    "Add some tests of your code.\n",
    "\n",
    "#### Hint: You can create a list of zeros of length `n` by\n",
    "\n",
    "    z = [0]*n"
   ]
  },
  {
   "cell_type": "code",
   "execution_count": 3,
   "metadata": {
    "nbgrader": {
     "grade": false,
     "grade_id": "cell-47daca03f7a96b62",
     "locked": false,
     "schema_version": 3,
     "solution": true
    },
    "tags": []
   },
   "outputs": [],
   "source": [
    "def sum_vector(v_1, v_2):\n",
    "    \"\"\"Return sum of two vectors\"\"\"\n",
    "    # check that the vectors have the same length\n",
    "    if len(v_1) != len(v_2):\n",
    "        raise ValueError(\"The two vectors being added must be of equal length!\")\n",
    "    \n",
    "    n = len(v_1)\n",
    "    v_sum = [0.0] * n\n",
    "\n",
    "    for i in range(n):\n",
    "        v_sum[i] = v_1[i] + v_2[i]\n",
    "\n",
    "    return v_sum"
   ]
  },
  {
   "cell_type": "code",
   "execution_count": 4,
   "metadata": {
    "nbgrader": {
     "grade": true,
     "grade_id": "cell-95f5819810d2b2c7",
     "locked": true,
     "points": 0,
     "schema_version": 3,
     "solution": false
    }
   },
   "outputs": [],
   "source": [
    "# tests ##\n",
    "a = [0, 4.3, -5, 7]\n",
    "b = [-2, 7, -15, 1]\n",
    "c = sum_vector(a, b)\n",
    "assert c == [-2, 11.3, -20, 8]"
   ]
  },
  {
   "cell_type": "markdown",
   "metadata": {},
   "source": [
    "### Optional (advanced) \n",
    "\n",
    "Try writing a one-line version that performs the `sum_vector` operation using list comprehension and the built-in function [`zip`](https://docs.python.org/3/library/functions.html#zip)."
   ]
  },
  {
   "cell_type": "code",
   "execution_count": 5,
   "metadata": {
    "nbgrader": {
     "grade": true,
     "grade_id": "cell-c182b3f0d8952692",
     "locked": false,
     "points": 0,
     "schema_version": 3,
     "solution": true
    },
    "tags": []
   },
   "outputs": [
    {
     "data": {
      "text/plain": [
       "Ellipsis"
      ]
     },
     "execution_count": 5,
     "metadata": {},
     "output_type": "execute_result"
    }
   ],
   "source": [
    "..."
   ]
  },
  {
   "cell_type": "markdown",
   "metadata": {},
   "source": [
    "## Exercise 06.4 (dictionaries)\n",
    "\n",
    "Create a dictionary that maps college names (the key) to college abbreviations for at least 5 colleges\n",
    "(you can find abbreviations at https://en.wikipedia.org/wiki/Colleges_of_the_University_of_Cambridge#Colleges).\n",
    "From the dictionary, produce and print\n",
    "\n",
    "1. A Python dictionary from college abbreviation to name; and\n",
    "1. A Python list of college abbreviations sorted into alphabetical order.\n",
    "\n",
    "*Optional extension:* Create a dictionary that maps college names (the key) to dictionaries of:\n",
    "\n",
    "- College abbreviation\n",
    "- Year of foundation \n",
    "- Total number students\n",
    " \n",
    "for at least 5 colleges. Take the data from https://en.wikipedia.org/wiki/Colleges_of_the_University_of_Cambridge#Colleges. Using this dictionary, \n",
    "\n",
    "1. Find the college with the greatest number of students and print the abbreviation; and \n",
    "2. Find the oldest college, and print the number of students and the abbreviation for this college."
   ]
  },
  {
   "cell_type": "code",
   "execution_count": 6,
   "metadata": {
    "nbgrader": {
     "grade": false,
     "grade_id": "cell-bc271dc3885e19c5",
     "locked": false,
     "schema_version": 3,
     "solution": true
    },
    "tags": []
   },
   "outputs": [
    {
     "name": "stdout",
     "output_type": "stream",
     "text": [
      "names to abbreviations: {\"Christ's\": 'CHR', 'Churchill': 'CHU', 'Clare': 'CL', 'Clare Hall': 'CLH', 'Corpus Christi': 'CC'}\n",
      "abbreviations to names: {'CHR': \"Christ's\", 'CHU': 'Churchill', 'CL': 'Clare', 'CLH': 'Clare Hall', 'CC': 'Corpus Christi'}\n",
      "sorted abbreviations: CC CHR CHU CL CLH\n"
     ]
    }
   ],
   "source": [
    "college_name_to_abbreviation = {\n",
    "    \"Christ's\": \"CHR\",\n",
    "    \"Churchill\": \"CHU\",\n",
    "    \"Clare\": \"CL\",\n",
    "    \"Clare Hall\": \"CLH\",\n",
    "    \"Corpus Christi\": \"CC\"\n",
    "}\n",
    "\n",
    "print(\"names to abbreviations:\", college_name_to_abbreviation)\n",
    "\n",
    "# invert the key: value relationship\n",
    "college_abbreviation_to_name = {abbreviation: name for name, abbreviation in college_name_to_abbreviation.items()}\n",
    "\n",
    "print(\"abbreviations to names:\", college_abbreviation_to_name)\n",
    "\n",
    "abbreviation_list = sorted(college_name_to_abbreviation.values())\n",
    "\n",
    "print(\"sorted abbreviations:\", *abbreviation_list)"
   ]
  },
  {
   "cell_type": "markdown",
   "metadata": {
    "nbgrader": {
     "grade": false,
     "grade_id": "cell-45d2551a524193b0",
     "locked": true,
     "schema_version": 3,
     "solution": false
    }
   },
   "source": [
    "#### Optional extension"
   ]
  },
  {
   "cell_type": "code",
   "execution_count": 7,
   "metadata": {
    "nbgrader": {
     "grade": false,
     "grade_id": "cell-7040c4053c72ce09",
     "locked": false,
     "schema_version": 3,
     "solution": true
    },
    "tags": []
   },
   "outputs": [
    {
     "data": {
      "text/plain": [
       "Ellipsis"
      ]
     },
     "execution_count": 7,
     "metadata": {},
     "output_type": "execute_result"
    }
   ],
   "source": [
    "..."
   ]
  }
 ],
 "metadata": {
  "celltoolbar": "Create Assignment",
  "kernelspec": {
   "display_name": "Python 3",
   "language": "python",
   "name": "python3"
  },
  "language_info": {
   "codemirror_mode": {
    "name": "ipython",
    "version": 3
   },
   "file_extension": ".py",
   "mimetype": "text/x-python",
   "name": "python",
   "nbconvert_exporter": "python",
   "pygments_lexer": "ipython3",
   "version": "3.12.6"
  },
  "otter": {
   "OK_FORMAT": true,
   "assignment_name": "Exercises 6",
   "tests": {}
  }
 },
 "nbformat": 4,
 "nbformat_minor": 4
}
