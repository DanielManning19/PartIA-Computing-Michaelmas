{
 "cells": [
  {
   "cell_type": "markdown",
   "metadata": {},
   "source": [
    "## Exercise 09.1 (checking data validity)\n",
    "\n",
    "The Fibonacci series is valid only for $n \\ge 0$. Add to the Fibonacci function in this notebook a check that raises an exception if $n < 0$. Try some invalid data cases to check that an exception is raised.\n",
    "\n",
    "*Optional:* Use `pytest` to test that an exception *is* raised for some $n < 0$ cases."
   ]
  },
  {
   "cell_type": "code",
   "execution_count": 1,
   "metadata": {
    "nbgrader": {
     "grade": false,
     "grade_id": "cell-982c3611466532a2",
     "locked": false,
     "schema_version": 3,
     "solution": true
    },
    "tags": []
   },
   "outputs": [],
   "source": [
    "def f(n): \n",
    "    \"Compute the nth Fibonacci number using recursion\"\n",
    "    if n == 0:\n",
    "        return 0\n",
    "    elif n == 1:\n",
    "        return 1\n",
    "    elif n > 1:\n",
    "        return f(n - 1) + f(n - 2)\n",
    "    else:\n",
    "        raise ValueError(\"n must be greater than or equal to 0!\")"
   ]
  },
  {
   "cell_type": "code",
   "execution_count": 2,
   "metadata": {
    "nbgrader": {
     "grade": true,
     "grade_id": "cell-9b97ea3e85d77f4a",
     "locked": true,
     "points": 0,
     "schema_version": 3,
     "solution": false
    }
   },
   "outputs": [],
   "source": [
    "## tests ##\n",
    "\n",
    "# Perform some tests    \n",
    "assert f(0) == 0\n",
    "assert f(1) == 1\n",
    "assert f(2) == 1\n",
    "assert f(3) == 2\n",
    "assert f(10) == 55\n",
    "assert f(15) == 610\n",
    "\n",
    "# Check that ValueError is raised for n < 0\n",
    "import pytest\n",
    "with pytest.raises(ValueError):\n",
    "    f(-1)\n",
    "with pytest.raises(ValueError):\n",
    "    f(-2)"
   ]
  },
  {
   "cell_type": "markdown",
   "metadata": {
    "nbgrader": {
     "grade": false,
     "grade_id": "cell-69c78c0ffc19db36",
     "locked": true,
     "schema_version": 3,
     "solution": false
    }
   },
   "source": [
    "## Exercise 09.2 (raising exceptions)\n",
    "\n",
    "Modify your program from the bisection exercise in Activity 04 to raise an error if the maximum number of iterations is exceeded. Reduce the maximum allowed iterations to test that an exception is raised.\n",
    "\n",
    "Add any other checks on the input data that you think are appropriate."
   ]
  },
  {
   "cell_type": "code",
   "execution_count": 3,
   "metadata": {
    "nbgrader": {
     "grade": false,
     "grade_id": "cell-ca2c3ee62ad3b956",
     "locked": false,
     "schema_version": 3,
     "solution": true
    },
    "tags": []
   },
   "outputs": [],
   "source": [
    "def my_f(x):\n",
    "    \"\"\"Evaluate polynomial function\"\"\"\n",
    "    return x**5 / 10 + x**3 - 10 * x**2 + 4 * x + 7\n",
    "\n",
    "# Create the function that performs the bisection:\n",
    "def compute_root(f, x_0, x_1, tol, max_it):\n",
    "    \"\"\"Compute roots of a function using bisection\"\"\"\n",
    "\n",
    "    # input data checks\n",
    "    try:\n",
    "        x_0 = float(x_0)\n",
    "        x_1 = float(x_1)\n",
    "        tol = float(tol)\n",
    "        max_it = int(max_it)\n",
    "    except ValueError:\n",
    "        raise ValueError(\"x_0 must be a float, x_1 must be a float, tol must be a float & max_it must be an int\")\n",
    "\n",
    "    it = 0\n",
    "    f_mid = tol + 1.0\n",
    "    while abs(f_mid) > tol:\n",
    "        if it >= max_it:\n",
    "            raise RuntimeError(\"Max number of iterations exceeded!\")\n",
    "        # calculate midpoint\n",
    "        x_mid = (x_0 + x_1) / 2\n",
    "\n",
    "        # Evaluate function at (i) left end-point and at (ii) midpoint\n",
    "        f_0 = f(x_0)\n",
    "        f_mid = f(x_mid)\n",
    "        \n",
    "        # calculate the product of f_0 and f_mid\n",
    "        product = f_0 * f_mid\n",
    "\n",
    "        # check the sign of the product\n",
    "        if product < 0.0:\n",
    "            x_1 = x_mid # f changes sign between x_0 and x_mid\n",
    "        else:\n",
    "            x_0 = x_mid # f changes sign between x_mid and x_1\n",
    "\n",
    "        # increment iteration counter\n",
    "        it += 1\n",
    "\n",
    "     \n",
    "    return x_mid, f_mid, it"
   ]
  },
  {
   "cell_type": "code",
   "execution_count": 4,
   "metadata": {
    "nbgrader": {
     "grade": true,
     "grade_id": "cell-f6cf91ed5dd1736b",
     "locked": true,
     "points": 0,
     "schema_version": 3,
     "solution": false
    }
   },
   "outputs": [],
   "source": [
    "## tests ##\n",
    "\n",
    "# Test with max_it = 30\n",
    "x, f, num_it = compute_root(my_f, 0, 2, 1.0e-6, 30)\n",
    "\n",
    "# Test with max_it = 20\n",
    "with pytest.raises(RuntimeError):\n",
    "    x, f, num_it = compute_root(my_f, 0, 2, 1.0e-6, 20)"
   ]
  }
 ],
 "metadata": {
  "celltoolbar": "Create Assignment",
  "kernelspec": {
   "display_name": "Python 3",
   "language": "python",
   "name": "python3"
  },
  "language_info": {
   "codemirror_mode": {
    "name": "ipython",
    "version": 3
   },
   "file_extension": ".py",
   "mimetype": "text/x-python",
   "name": "python",
   "nbconvert_exporter": "python",
   "pygments_lexer": "ipython3",
   "version": "3.12.6"
  },
  "otter": {
   "OK_FORMAT": true,
   "assignment_name": "Exercises 9",
   "tests": {}
  }
 },
 "nbformat": 4,
 "nbformat_minor": 4
}
